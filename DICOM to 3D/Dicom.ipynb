{
 "cells": [
  {
   "cell_type": "code",
   "execution_count": 4,
   "metadata": {},
   "outputs": [
    {
     "name": "stdout",
     "output_type": "stream",
     "text": [
      "MRI Volume Shape: (100, 512, 512)\n"
     ]
    }
   ],
   "source": [
    "\n",
    "import os\n",
    "import numpy as np\n",
    "import pydicom\n",
    "from skimage import exposure\n",
    "\n",
    "def load_mri_slices(dicom_folder):\n",
    "    slices = []\n",
    "    for file in sorted(os.listdir(dicom_folder)):\n",
    "        if file.endswith(\".dcm\"):\n",
    "            dicom_file = pydicom.dcmread(os.path.join(dicom_folder, file))\n",
    "            slices.append(dicom_file.pixel_array)\n",
    "    volume = np.stack(slices)\n",
    "    return volume\n",
    "\n",
    "def normalize_volume(volume):\n",
    "    volume = (volume - np.min(volume)) / (np.max(volume) - np.min(volume))\n",
    "    volume = exposure.equalize_hist(volume)\n",
    "    return volume\n",
    "\n",
    "dicom_folder = \"shashankhegde06/AR-in-MedicalImages/DICOM to 3D/archive\"\n",
    "mri_volume = load_mri_slices(dicom_folder)\n",
    "mri_volume = normalize_volume(mri_volume)\n",
    "print(f\"MRI Volume Shape: {mri_volume.shape}\")"
   ]
  },
  {
   "cell_type": "code",
   "execution_count": 5,
   "metadata": {},
   "outputs": [
    {
     "name": "stdout",
     "output_type": "stream",
     "text": [
      "saved to model.stl\n"
     ]
    }
   ],
   "source": [
    "\n",
    "from skimage.measure import marching_cubes\n",
    "from stl import mesh\n",
    "\n",
    "def create_model(volume, output_path, level=0.5):\n",
    "    verts, faces, normals, values = marching_cubes(volume, level=level)\n",
    "    surface_mesh = mesh.Mesh(np.zeros(faces.shape[0], dtype=mesh.Mesh.dtype))\n",
    "    for i, f in enumerate(faces):\n",
    "        for j in range(3):\n",
    "            surface_mesh.vectors[i][j] = verts[f[j], :]\n",
    "    surface_mesh.save(output_path)\n",
    "\n",
    "model_path = \"model.stl\"\n",
    "create_model(mri_volume, model_path)\n",
    "print(f\"saved to {model_path}\")\n"
   ]
  }
 ],
 "metadata": {
  "kernelspec": {
   "display_name": "Python 3",
   "language": "python",
   "name": "python3"
  },
  "language_info": {
   "codemirror_mode": {
    "name": "ipython",
    "version": 3
   },
   "file_extension": ".py",
   "mimetype": "text/x-python",
   "name": "python",
   "nbconvert_exporter": "python",
   "pygments_lexer": "ipython3",
   "version": "3.10.0"
  }
 },
 "nbformat": 4,
 "nbformat_minor": 2
}
